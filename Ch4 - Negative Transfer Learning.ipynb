{
 "cells": [
  {
   "cell_type": "code",
   "execution_count": 1,
   "metadata": {},
   "outputs": [
    {
     "name": "stderr",
     "output_type": "stream",
     "text": [
      "Using TensorFlow backend.\n"
     ]
    }
   ],
   "source": [
    "import os\n",
    "import ot\n",
    "import json\n",
    "import pprint\n",
    "import networkx\n",
    "import numpy as np\n",
    "import pandas as pd\n",
    "import seaborn as sns\n",
    "import matplotlib.pyplot as plt\n",
    "\n",
    "from sklearn.svm import SVC\n",
    "from sklearn.metrics import accuracy_score\n",
    "from sklearn.metrics import confusion_matrix\n",
    "from sklearn.model_selection import train_test_split\n",
    "\n",
    "from utils.preprocessing import feature_scaling\n",
    "from utils.preprocessing import feature_normalization\n",
    "from utils.plot import generate_hierarchical_graph_json\n",
    "\n",
    "from domain_adaptation import compute_mass_flow\n",
    "from domain_adaptation import undesired_mass_flow_index\n",
    "\n",
    "plt.rcParams['mathtext.fontset'] = 'custom'  \n",
    "plt.rcParams['mathtext.rm'] = 'Bitstream Vera Sans'  \n",
    "plt.rcParams['mathtext.it'] = 'Bitstream Vera Sans:italic'  \n",
    "plt.rcParams['mathtext.bf'] = 'Bitstream Vera Sans:bold'  \n",
    "plt.rcParams['font.size'] = 16  \n",
    "plt.rcParams['mathtext.fontset'] = 'stix'  \n",
    "plt.rcParams['font.family'] = 'STIXGeneral' \n",
    "\n",
    "plt.style.use('science')\n",
    "\n",
    "palette = [\n",
    "    'royalblue',\n",
    "    'firebrick',\n",
    "    'darkgoldenrod',\n",
    "    'darkseagreen',\n",
    "    'grey',\n",
    "    'darkslategray',\n",
    "    'crimson',\n",
    "    'midnightblue',\n",
    "    'saddlebrown',\n",
    "    'orange',\n",
    "    'seagreen',\n",
    "    'dodgerblue',\n",
    "    'black'\n",
    "]"
   ]
  },
  {
   "cell_type": "code",
   "execution_count": 31,
   "metadata": {},
   "outputs": [],
   "source": [
    "# First case: low lambda, good performance\n",
    "mu1 = np.array([3, 0])\n",
    "mu2 = np.array([0, 3])\n",
    "mu3 = np.array([0, 5])\n",
    "mu4 = np.array([3, 5])\n",
    "\n",
    "cov1 = np.array([[0.3, 0.1], [0.1, 0.3]])\n",
    "cov2 = np.array([[0.3, -0.15], [-0.15, 0.3]])\n",
    "cov3 = np.array([[0.3, 0.0], [0.0, 0.05]])\n",
    "cov4 = np.array([[0.3, -0.1], [-0.1, 0.05]])\n",
    "\n",
    "x1 = np.random.multivariate_normal(mu1, cov1, size=10)\n",
    "x2 = np.random.multivariate_normal(mu2, cov2, size=10)\n",
    "x3 = np.random.multivariate_normal(mu3, cov3, size=10)\n",
    "x4 = np.random.multivariate_normal(mu4, cov4, size=10)"
   ]
  },
  {
   "cell_type": "code",
   "execution_count": 32,
   "metadata": {},
   "outputs": [],
   "source": [
    "X = np.concatenate([x1, x2, x3, x4], axis=0)\n",
    "y = np.concatenate([np.array([0] * len(x1)), np.array([1] * len(x2)), np.array([1] * len(x3)), np.array([0] * len(x4))])\n",
    "d = np.concatenate([np.array([0] * (len(x1) + len(x2))), np.array([1] * (len(x3) + len(x4)))])\n",
    "Xs = X[np.where(d == 0)[0]]\n",
    "ys = y[np.where(d == 0)[0]]\n",
    "Xt = X[np.where(d == 1)[0]] \n",
    "yt = y[np.where(d == 1)[0]] \n",
    "a = ot.unif(Xs.shape[0])\n",
    "b = ot.unif(Xt.shape[0])\n",
    "C = ot.dist(Xs, Xt)\n",
    "C = C / np.max(C)\n",
    "G1 = ot.sinkhorn(a, b, C, reg=1e-3)\n",
    "TXs = Xt.shape[0] * np.dot(G1, Xt)"
   ]
  },
  {
   "cell_type": "code",
   "execution_count": 33,
   "metadata": {},
   "outputs": [
    {
     "name": "stdout",
     "output_type": "stream",
     "text": [
      "Joint Risk: 0.0\n",
      "Target Risk: 0.5\n",
      "[TL] Target Risk: 0.0\n"
     ]
    }
   ],
   "source": [
    "clf = SVC(kernel='linear')\n",
    "clf.fit(X, y)\n",
    "yp = clf.predict(X)\n",
    "print('Joint Risk: {}'.format(np.mean(np.abs(yp - y))))\n",
    "\n",
    "clf.fit(Xs, ys)\n",
    "yp = clf.predict(Xt)\n",
    "print('Target Risk: {}'.format(np.mean(np.abs(yp - yt))))\n",
    "\n",
    "clf.fit(TXs, ys)\n",
    "yp = clf.predict(Xt)\n",
    "print('[TL] Target Risk: {}'.format(np.mean(np.abs(yp - yt))))\n"
   ]
  },
  {
   "cell_type": "code",
   "execution_count": 34,
   "metadata": {},
   "outputs": [
    {
     "data": {
      "image/png": "[encoded data removed]",
      "text/plain": [
       "<Figure size 648x360 with 2 Axes>"
      ]
     },
     "metadata": {
      "needs_background": "light"
     },
     "output_type": "display_data"
    }
   ],
   "source": [
    "fig, axes = plt.subplots(1, 2, figsize=(9, 5), sharey=True)\n",
    "s1 = axes[0].scatter(Xs[np.where(ys == 0)[0], 0], Xs[np.where(ys == 0)[0], 1], color='r', marker='+')\n",
    "s2 = axes[0].scatter(Xs[np.where(ys == 1)[0], 0], Xs[np.where(ys == 1)[0], 1], facecolors='none', edgecolor='r')\n",
    "s1 = axes[0].scatter(Xt[np.where(yt == 0)[0], 0], Xt[np.where(yt == 0)[0], 1], color='b', marker='+')\n",
    "s2 = axes[0].scatter(Xt[np.where(yt == 1)[0], 0], Xt[np.where(yt == 1)[0], 1], facecolors='none', edgecolor='b')\n",
    "axes[0].set_xlabel('$x$')\n",
    "axes[0].set_ylabel('$y$')\n",
    "\n",
    "s1 = axes[1].scatter(TXs[np.where(ys == 0)[0], 0], TXs[np.where(ys == 0)[0], 1], color='r', marker='+')\n",
    "s2 = axes[1].scatter(TXs[np.where(ys == 1)[0], 0], TXs[np.where(ys == 1)[0], 1], facecolors='none', edgecolor='r')\n",
    "s1 = axes[1].scatter(Xt[np.where(yt == 0)[0], 0], Xt[np.where(yt == 0)[0], 1], color='b', marker='+')\n",
    "s2 = axes[1].scatter(Xt[np.where(yt == 1)[0], 0], Xt[np.where(yt == 1)[0], 1], facecolors='none', edgecolor='b')\n",
    "axes[1].set_xlabel('$x$')\n",
    "\n",
    "plt.savefig('./Figures/Ch5/LowLambda.pdf', transparent=True)"
   ]
  },
  {
   "cell_type": "code",
   "execution_count": 35,
   "metadata": {},
   "outputs": [],
   "source": [
    "# Third Case: High lambda, poor performance\n",
    "mu1 = np.array([3, 0])\n",
    "mu2 = np.array([0, 0])\n",
    "mu3 = np.array([0, 5])\n",
    "mu4 = np.array([3, 5])\n",
    "\n",
    "cov1 = np.array([[0.3, 0.1], [0.1, 0.3]])\n",
    "cov2 = np.array([[0.3, -0.15], [-0.15, 0.3]])\n",
    "cov3 = np.array([[0.3, 0.0], [0.0, 0.05]])\n",
    "cov4 = np.array([[0.3, -0.1], [-0.1, 0.05]])\n",
    "\n",
    "x1 = np.random.multivariate_normal(mu1, cov1, size=10)\n",
    "x2 = np.random.multivariate_normal(mu2, cov2, size=10)\n",
    "x3 = np.random.multivariate_normal(mu4, cov4, size=10)\n",
    "x4 = np.random.multivariate_normal(mu3, cov3, size=10)"
   ]
  },
  {
   "cell_type": "code",
   "execution_count": 36,
   "metadata": {},
   "outputs": [],
   "source": [
    "X = np.concatenate([x1, x2, x3, x4], axis=0)\n",
    "y = np.concatenate([np.array([0] * len(x1)), np.array([1] * len(x2)), np.array([1] * len(x3)), np.array([0] * len(x4))])\n",
    "d = np.concatenate([np.array([0] * (len(x1) + len(x2))), np.array([1] * (len(x3) + len(x4)))])\n",
    "Xs = X[np.where(d == 0)[0]]\n",
    "ys = y[np.where(d == 0)[0]]\n",
    "Xt = X[np.where(d == 1)[0]] \n",
    "yt = y[np.where(d == 1)[0]] \n",
    "a = ot.unif(Xs.shape[0])\n",
    "b = ot.unif(Xt.shape[0])\n",
    "C = ot.dist(Xs, Xt)\n",
    "C = C / np.max(C)\n",
    "G2 = ot.sinkhorn(a, b, C, reg=1e-2)\n",
    "TXs = Xs.shape[0] * np.dot(G2, Xt)"
   ]
  },
  {
   "cell_type": "code",
   "execution_count": 37,
   "metadata": {},
   "outputs": [
    {
     "name": "stdout",
     "output_type": "stream",
     "text": [
      "Joint Risk: 0.25\n",
      "Target Risk: 0.5\n",
      "[TL] Target Risk: 1.0\n"
     ]
    }
   ],
   "source": [
    "clf = SVC(kernel='linear')\n",
    "clf.fit(X, y)\n",
    "yp = clf.predict(X)\n",
    "print('Joint Risk: {}'.format(np.mean(np.abs(yp - y))))\n",
    "\n",
    "clf.fit(Xs, ys)\n",
    "yp = clf.predict(Xt)\n",
    "print('Target Risk: {}'.format(np.mean(np.abs(yp - yt))))\n",
    "\n",
    "clf.fit(TXs, ys)\n",
    "yp = clf.predict(Xt)\n",
    "print('[TL] Target Risk: {}'.format(np.mean(np.abs(yp - yt))))\n"
   ]
  },
  {
   "cell_type": "code",
   "execution_count": 38,
   "metadata": {},
   "outputs": [
    {
     "data": {
      "image/png": "[encoded data removed]",
      "text/plain": [
       "<Figure size 648x360 with 2 Axes>"
      ]
     },
     "metadata": {
      "needs_background": "light"
     },
     "output_type": "display_data"
    }
   ],
   "source": [
    "fig, axes = plt.subplots(1, 2, figsize=(9, 5), sharey=True)\n",
    "s1 = axes[0].scatter(Xs[np.where(ys == 0)[0], 0], Xs[np.where(ys == 0)[0], 1], color='r', marker='+')\n",
    "s2 = axes[0].scatter(Xs[np.where(ys == 1)[0], 0], Xs[np.where(ys == 1)[0], 1], facecolors='none', edgecolor='r')\n",
    "s1 = axes[0].scatter(Xt[np.where(yt == 0)[0], 0], Xt[np.where(yt == 0)[0], 1], color='b', marker='+')\n",
    "s2 = axes[0].scatter(Xt[np.where(yt == 1)[0], 0], Xt[np.where(yt == 1)[0], 1], facecolors='none', edgecolor='b')\n",
    "axes[0].set_xlabel('$x$')\n",
    "axes[0].set_ylabel('$y$')\n",
    "\n",
    "s1 = axes[1].scatter(TXs[np.where(ys == 0)[0], 0], TXs[np.where(ys == 0)[0], 1], color='r', marker='+')\n",
    "s2 = axes[1].scatter(TXs[np.where(ys == 1)[0], 0], TXs[np.where(ys == 1)[0], 1], facecolors='none', edgecolor='r')\n",
    "s1 = axes[1].scatter(Xt[np.where(yt == 0)[0], 0], Xt[np.where(yt == 0)[0], 1], color='b', marker='+')\n",
    "s2 = axes[1].scatter(Xt[np.where(yt == 1)[0], 0], Xt[np.where(yt == 1)[0], 1], facecolors='none', edgecolor='b')\n",
    "axes[1].set_xlabel('$x$')\n",
    "\n",
    "plt.savefig('./Figures/Ch5/HighLambda.pdf', transparent=True)"
   ]
  },
  {
   "cell_type": "code",
   "execution_count": 45,
   "metadata": {},
   "outputs": [
    {
     "data": {
      "image/png": "[encoded data removed]",
      "text/plain": [
       "<Figure size 648x360 with 2 Axes>"
      ]
     },
     "metadata": {
      "needs_background": "light"
     },
     "output_type": "display_data"
    }
   ],
   "source": [
    "fig, axes = plt.subplots(1, 2, figsize=(9, 5))\n",
    "\n",
    "axes[0].imshow(G2, cmap='viridis', aspect='auto')\n",
    "axes[0].set_xticks([5, 15])\n",
    "axes[0].set_xticklabels(['$C_{1}$', '$C_{2}$'])\n",
    "axes[0].set_yticks([5, 15])\n",
    "axes[0].set_yticklabels(['$C_{1}$', '$C_{2}$'])\n",
    "axes[0].set_title('Low $\\lambda$')\n",
    "axes[1].imshow(G1, cmap='viridis', aspect='auto')\n",
    "axes[1].set_xticks([5, 15])\n",
    "axes[1].set_xticklabels(['$C_{1}$', '$C_{2}$'])\n",
    "axes[1].set_yticks([5, 15])\n",
    "axes[1].set_yticklabels(['$C_{1}$', '$C_{2}$'])\n",
    "axes[1].set_title('High $\\lambda$')\n",
    "plt.savefig('./Figures/Ch5/TransportPlans.pdf', transparent=True)"
   ]
  },
  {
   "cell_type": "code",
   "execution_count": null,
   "metadata": {},
   "outputs": [],
   "source": []
  }
 ],
 "metadata": {
  "kernelspec": {
   "display_name": "Python 3.7.7 64-bit ('OptimalTransport': conda)",
   "language": "python",
   "name": "python37764bitoptimaltransportconda38cd42aab3c640dc8d34473d4e53c23f"
  },
  "language_info": {
   "codemirror_mode": {
    "name": "ipython",
    "version": 3
   },
   "file_extension": ".py",
   "mimetype": "text/x-python",
   "name": "python",
   "nbconvert_exporter": "python",
   "pygments_lexer": "ipython3",
   "version": "3.7.7"
  }
 },
 "nbformat": 4,
 "nbformat_minor": 2
}
