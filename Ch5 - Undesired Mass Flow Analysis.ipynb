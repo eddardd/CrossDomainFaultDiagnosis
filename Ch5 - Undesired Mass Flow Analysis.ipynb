{
 "cells": [
  {
   "cell_type": "code",
   "execution_count": 1,
   "metadata": {},
   "outputs": [
    {
     "name": "stderr",
     "output_type": "stream",
     "text": [
      "Using TensorFlow backend.\n"
     ]
    }
   ],
   "source": [
    "import os\n",
    "import ot\n",
    "import json\n",
    "import pprint\n",
    "import networkx\n",
    "import numpy as np\n",
    "import pandas as pd\n",
    "import seaborn as sns\n",
    "import matplotlib.pyplot as plt\n",
    "\n",
    "from sklearn.svm import SVC\n",
    "from sklearn.metrics import accuracy_score\n",
    "from sklearn.metrics import confusion_matrix\n",
    "from sklearn.model_selection import train_test_split\n",
    "\n",
    "from utils.preprocessing import feature_scaling\n",
    "from utils.preprocessing import feature_normalization\n",
    "from utils.plot import generate_hierarchical_graph_json\n",
    "from utils.plot import generate_links_json\n",
    "\n",
    "from domain_adaptation import compute_mass_flow\n",
    "from domain_adaptation import undesired_mass_flow_index\n",
    "\n",
    "plt.rcParams['mathtext.fontset'] = 'custom'  \n",
    "plt.rcParams['mathtext.rm'] = 'Bitstream Vera Sans'  \n",
    "plt.rcParams['mathtext.it'] = 'Bitstream Vera Sans:italic'  \n",
    "plt.rcParams['mathtext.bf'] = 'Bitstream Vera Sans:bold'  \n",
    "plt.rcParams['font.size'] = 16  \n",
    "plt.rcParams['mathtext.fontset'] = 'stix'  \n",
    "plt.rcParams['font.family'] = 'STIXGeneral' \n",
    "\n",
    "plt.style.use('science')\n",
    "\n",
    "palette = [\n",
    "    'royalblue',\n",
    "    'firebrick',\n",
    "    'darkgoldenrod',\n",
    "    'darkseagreen',\n",
    "    'grey',\n",
    "    'darkslategray',\n",
    "    'crimson',\n",
    "    'midnightblue',\n",
    "    'saddlebrown',\n",
    "    'orange',\n",
    "    'seagreen',\n",
    "    'dodgerblue',\n",
    "    'black'\n",
    "]"
   ]
  },
  {
   "cell_type": "code",
   "execution_count": 2,
   "metadata": {},
   "outputs": [],
   "source": [
    "data_mat = np.load('./data/cstr_rawdata.npy')\n",
    "X = data_mat[:, :-4]\n",
    "y = data_mat[:, -4]\n",
    "d = data_mat[:, -3]\n",
    "\n",
    "domain = 1\n",
    "Xs, ys = X[np.where(d == 0)[0]], y[np.where(d == 0)[0]]"
   ]
  },
  {
   "cell_type": "code",
   "execution_count": 10,
   "metadata": {},
   "outputs": [
    {
     "name": "stdout",
     "output_type": "stream",
     "text": [
      "Starting calculations for Domain 1.0\n",
      "Starting calculations for Domain 2.0\n",
      "Starting calculations for Domain 3.0\n",
      "Starting calculations for Domain 4.0\n",
      "Starting calculations for Domain 5.0\n",
      "Starting calculations for Domain 6.0\n"
     ]
    }
   ],
   "source": [
    "for domain in np.unique(d)[1:]:\n",
    "    print(\"Starting calculations for Domain {}\".format(domain))\n",
    "    Xt, yt = X[np.where(d == domain)[0]], y[np.where(d == domain)[0]]\n",
    "    all_y = np.concatenate([ys, yt])\n",
    "    custom_order_index = np.concatenate([\n",
    "        np.where(all_y == i)[0] for i in range(13)\n",
    "    ])\n",
    "\n",
    "    ns = Xs.shape[0]\n",
    "    nt = Xt.shape[0]\n",
    "\n",
    "    a = ot.unif(ns)\n",
    "    b = ot.unif(nt)\n",
    "    M = ot.dist(feature_normalization(Xs), feature_normalization(Xt), metric='cityblock')\n",
    "    M = M / np.max(M)\n",
    "    Gemd = ot.emd(a, b, M)\n",
    "\n",
    "    Aemd = np.zeros([ns + nt, ns + nt])\n",
    "    Gmax = np.max(Gemd)\n",
    "    Gmin = np.min(Gemd)\n",
    "\n",
    "    for i in range(ns):\n",
    "        for j in range(nt):\n",
    "            if Gemd[i, j] > 0.0:\n",
    "                Aemd[i, ns + j] = Gemd[i, j]\n",
    "                Aemd[ns + j, i] = Gemd[i, j]\n",
    "\n",
    "    nodes = ['Src{}'.format(i) for i in range(ns)] + ['Tgt{}'.format(j) for j in range(nt)]\n",
    "    faults = []\n",
    "    for yi in np.concatenate([ys, yt], axis=0):\n",
    "        if yi != 12:\n",
    "            faults.append('Fault{}'.format(int(yi)))\n",
    "        else:\n",
    "            faults.append('NormalOperation')\n",
    "    hierarchical_graph = generate_hierarchical_graph_json(nodes, faults, Aemd)\n",
    "    links = generate_links_json(nodes, faults, Aemd)\n",
    "\n",
    "    with open('./results/HierarchicalGraph_EMD_Target{}.json'.format(domain), 'w') as f:\n",
    "        f.write(json.dumps(hierarchical_graph))\n",
    "\n",
    "    with open('./results/Links_EMD_Target{}.json'.format(domain), 'w') as f:\n",
    "        f.write(json.dumps(links))"
   ]
  },
  {
   "cell_type": "markdown",
   "metadata": {},
   "source": [
    "## Distributional Shift vs. Undesired Mass Flow"
   ]
  },
  {
   "cell_type": "code",
   "execution_count": 2,
   "metadata": {},
   "outputs": [],
   "source": [
    "data_mat = np.load('./data/cstr_rawdata.npy')\n",
    "X = data_mat[:, :-4]\n",
    "y = data_mat[:, -4]\n",
    "d = data_mat[:, -3]"
   ]
  },
  {
   "cell_type": "code",
   "execution_count": 3,
   "metadata": {},
   "outputs": [],
   "source": [
    "umf_emd = []\n",
    "umf_sink = []\n",
    "wdists_emd = []\n",
    "wdists_sink = []\n",
    "\n",
    "for domain in np.unique(d)[1:]:\n",
    "    Xs, ys = X[np.where(d == 0)[0]], y[np.where(d == 0)[0]]\n",
    "    Xt, yt = X[np.where(d == domain)[0]], y[np.where(d == domain)[0]]\n",
    "\n",
    "    ns = Xs.shape[0]\n",
    "    nt = Xt.shape[0]\n",
    "\n",
    "    a = ot.unif(ns)\n",
    "    b = ot.unif(nt)\n",
    "    M = ot.dist(feature_normalization(Xs),\n",
    "                feature_normalization(Xt),\n",
    "                metric='cityblock')\n",
    "    M = M / np.max(M)\n",
    "    Gemd = ot.emd(a, b, M)\n",
    "    Gsink = ot.sinkhorn(a, b, M, reg=1e-2)\n",
    "    \n",
    "    wdists_emd.append(np.sum(M * Gemd))\n",
    "    wdists_sink.append(np.sum(M * Gsink))\n",
    "    umf_emd.append(undesired_mass_flow_index(Gemd, ys, yt))\n",
    "    umf_sink.append(undesired_mass_flow_index(Gsink, ys, yt))"
   ]
  },
  {
   "cell_type": "code",
   "execution_count": 4,
   "metadata": {},
   "outputs": [
    {
     "data": {
      "text/plain": [
       "(0.0, 0.46)"
      ]
     },
     "execution_count": 4,
     "metadata": {},
     "output_type": "execute_result"
    },
    {
     "data": {
      "image/png": "[encoded data removed]",
      "text/plain": [
       "<Figure size 648x180 with 1 Axes>"
      ]
     },
     "metadata": {
      "needs_background": "light"
     },
     "output_type": "display_data"
    }
   ],
   "source": [
    "fig, ax = plt.subplots(figsize=(9, 2.5))\n",
    "\n",
    "bar_pos1 = np.arange(6) * 3\n",
    "bar_pos2 = np.arange(6) * 3 + 1\n",
    "ax.bar(bar_pos1, umf_emd, width=1)\n",
    "ax.bar(bar_pos2, umf_sink, width=1)\n",
    "\n",
    "for pos, umf in zip(bar_pos1, umf_emd):\n",
    "    ax.text(pos, umf + 1e-2, s=\"{}\".format(np.round(umf, 2)), ha='center')\n",
    "for pos, umf in zip(bar_pos2, umf_sink):\n",
    "    ax.text(pos, umf + 1e-2, s=\"{}\".format(np.round(umf, 2)), ha='center')\n",
    "\n",
    "ax.set_ylabel('UMF$(\\gamma)$')\n",
    "ax.set_xticks(.5 * (bar_pos1 + bar_pos2))\n",
    "ax.set_xticklabels([r'$\\epsilon=0.10$' + '\\n' + r'$N = 1.0$',\n",
    "                    r'$\\epsilon=0.15$' + '\\n' + r'$N = 1.0$',\n",
    "                    r'$\\epsilon=0.20$' + '\\n' + r'$N = 1.0$',\n",
    "                    r'$\\epsilon=0.15$' + '\\n' + r'$N = 0.5$',\n",
    "                    r'$\\epsilon=0.15$' + '\\n' + r'$N = 1.5$',\n",
    "                    r'$\\epsilon=0.15$' + '\\n' + r'$N = 2.0$'])\n",
    "ax.set_ylim([0.0, 0.46])\n",
    "\n",
    "# plt.savefig('./Figures/Ch6/UndesiredMassFlow.pdf')"
   ]
  },
  {
   "cell_type": "code",
   "execution_count": 10,
   "metadata": {},
   "outputs": [
    {
     "data": {
      "image/png": "[encoded data removed]",
      "text/plain": [
       "<Figure size 576x288 with 1 Axes>"
      ]
     },
     "metadata": {
      "needs_background": "light"
     },
     "output_type": "display_data"
    }
   ],
   "source": [
    "fig, ax = plt.subplots(figsize=(8, 4))\n",
    "\n",
    "bar_pos1 = np.arange(6) * 3\n",
    "ax.bar(bar_pos1, umf_emd, width=2)\n",
    "\n",
    "for pos, umf in zip(bar_pos1, umf_emd):\n",
    "    ax.text(pos, umf + 1e-2, s=\"{}\".format(np.round(umf, 2)), ha='center')\n",
    "\n",
    "ax.set_ylabel('UMF$(\\gamma)$')\n",
    "ax.set_xticks(bar_pos1)\n",
    "ax.set_xticklabels([r'$\\epsilon=0.10$' + '\\n' + r'$N = 1.0$',\n",
    "                    r'$\\epsilon=0.15$' + '\\n' + r'$N = 1.0$',\n",
    "                    r'$\\epsilon=0.20$' + '\\n' + r'$N = 1.0$',\n",
    "                    r'$\\epsilon=0.15$' + '\\n' + r'$N = 0.5$',\n",
    "                    r'$\\epsilon=0.15$' + '\\n' + r'$N = 1.5$',\n",
    "                    r'$\\epsilon=0.15$' + '\\n' + r'$N = 2.0$'])\n",
    "ax.set_ylim([0.0, 0.46])\n",
    "\n",
    "plt.savefig('./Figures/Presentation/UndesiredMassFlow.pdf')"
   ]
  },
  {
   "cell_type": "markdown",
   "metadata": {},
   "source": [
    "## Classification Performance vs. UMF"
   ]
  },
  {
   "cell_type": "code",
   "execution_count": 2,
   "metadata": {},
   "outputs": [],
   "source": [
    "data_mat = np.load('./data/cstr_rawdata.npy')\n",
    "X = data_mat[:, :-4]\n",
    "y = data_mat[:, -4]\n",
    "d = data_mat[:, -3]\n",
    "\n",
    "Xs, ys = X[np.where(d == 0)[0]], y[np.where(d == 0)[0]]\n",
    "\n",
    "dataset = np.load('./data/DistributionalShiftData/raw_cstr_distrshift.npy')\n",
    "\n",
    "X = dataset[:, :-3]\n",
    "y = dataset[:, -3]\n",
    "E = dataset[:, -2]\n",
    "N = dataset[:, -1]\n",
    "\n",
    "targets_E = [\n",
    "    (eps,\n",
    "     X[np.intersect1d(np.where(E == eps)[0], np.where(N == 1))],\n",
    "     y[np.intersect1d(np.where(E == eps)[0], np.where(N == 1))]) for eps in [i / 10 for i in range(1, 10)]\n",
    "]\n",
    "\n",
    "targets_N = [\n",
    "    (Ni,\n",
    "     X[np.intersect1d(np.where(E == 0.15)[0], np.where(N == Ni))],\n",
    "     y[np.intersect1d(np.where(E == 0.15)[0], np.where(N == Ni))]) for Ni in [0.25, 0.5, 0.75, 1,\n",
    "                                                                              1.25, 1.75, 2.0]\n",
    "]"
   ]
  },
  {
   "cell_type": "code",
   "execution_count": 4,
   "metadata": {},
   "outputs": [
    {
     "name": "stderr",
     "output_type": "stream",
     "text": [
      "/home/eduardo/.conda/envs/OptimalTransport/lib/python3.7/site-packages/sklearn/svm/_base.py:258: ConvergenceWarning: Solver terminated early (max_iter=1000000).  Consider pre-processing your data with StandardScaler or MinMaxScaler.\n",
      "  % self.max_iter, ConvergenceWarning)\n"
     ]
    }
   ],
   "source": [
    "umf_emd = []\n",
    "emd_acc = []\n",
    "umf_sink = []\n",
    "sink_acc = []\n",
    "clf = SVC(kernel='linear', max_iter=1e+6)\n",
    "\n",
    "emd = ot.da.EMDTransport(norm='max')\n",
    "sink = ot.da.SinkhornTransport(reg_e=1e-3, norm='max')\n",
    "for param, Xt, yt in targets_E + targets_N:\n",
    "    Xtr = feature_normalization(Xs)\n",
    "    Xts = feature_normalization(Xt)\n",
    "    \n",
    "    emd.fit(Xs=Xtr, Xt=Xts)\n",
    "    sink.fit(Xs=Xtr, Xt=Xts)\n",
    "    \n",
    "    Gemd = emd.coupling_\n",
    "    Gsink = sink.coupling_\n",
    "    \n",
    "    umf_emd.append(undesired_mass_flow_index(Gemd, ys, yt))\n",
    "    umf_sink.append(undesired_mass_flow_index(Gsink, ys, yt))\n",
    "    \n",
    "    TXtr = emd.transform(Xtr)\n",
    "    clf.fit(TXtr, ys)\n",
    "    yp = clf.predict(Xts)\n",
    "    emd_acc.append(accuracy_score(yt, yp))\n",
    "    \n",
    "    TXtr = sink.transform(Xtr)\n",
    "    clf.fit(TXtr, ys)\n",
    "    yp = clf.predict(Xts)\n",
    "    sink_acc.append(accuracy_score(yt, yp))"
   ]
  },
  {
   "cell_type": "code",
   "execution_count": 8,
   "metadata": {},
   "outputs": [
    {
     "name": "stdout",
     "output_type": "stream",
     "text": [
      "0.1 0.8846153846153846 0.13000000000000003\n",
      "0.2 0.7923076923076923 0.21\n"
     ]
    },
    {
     "name": "stderr",
     "output_type": "stream",
     "text": [
      "/home/eduardo/.local/lib/python3.7/site-packages/ot/bregman.py:363: RuntimeWarning: overflow encountered in true_divide\n",
      "  v = np.divide(b, KtransposeU)\n"
     ]
    },
    {
     "name": "stdout",
     "output_type": "stream",
     "text": [
      "Warning: numerical errors at iteration 0\n",
      "0.3 0.7230769230769231 0.2784615384615384\n",
      "0.4 0.6807692307692308 0.3307692307692308\n",
      "0.5 0.5884615384615385 0.4207692307692308\n",
      "0.6 0.5538461538461539 0.446923076923077\n",
      "0.7 0.5076923076923077 0.4953846153846154\n",
      "0.8 0.6038461538461538 0.40692307692307694\n"
     ]
    },
    {
     "name": "stderr",
     "output_type": "stream",
     "text": [
      "/home/eduardo/.conda/envs/OptimalTransport/lib/python3.7/site-packages/sklearn/svm/_base.py:258: ConvergenceWarning: Solver terminated early (max_iter=1000000).  Consider pre-processing your data with StandardScaler or MinMaxScaler.\n",
      "  % self.max_iter, ConvergenceWarning)\n"
     ]
    },
    {
     "name": "stdout",
     "output_type": "stream",
     "text": [
      "0.9 0.5192307692307693 0.48\n"
     ]
    },
    {
     "name": "stderr",
     "output_type": "stream",
     "text": [
      "/home/eduardo/.conda/envs/OptimalTransport/lib/python3.7/site-packages/sklearn/svm/_base.py:258: ConvergenceWarning: Solver terminated early (max_iter=1000000).  Consider pre-processing your data with StandardScaler or MinMaxScaler.\n",
      "  % self.max_iter, ConvergenceWarning)\n"
     ]
    },
    {
     "name": "stdout",
     "output_type": "stream",
     "text": [
      "0.25 0.7230769230769231 0.2746153846153846\n",
      "0.5 0.7346153846153847 0.2723076923076923\n",
      "0.75 0.8461538461538461 0.1646153846153846\n",
      "1 0.8692307692307693 0.1430769230769231\n",
      "1.25 0.85 0.16384615384615384\n",
      "1.75 0.8461538461538461 0.17769230769230776\n",
      "2.0 0.8538461538461538 0.15769230769230771\n"
     ]
    }
   ],
   "source": [
    "umf_emd = []\n",
    "emd_acc = []\n",
    "umf_sink = []\n",
    "sink_acc = []\n",
    "clf = SVC(kernel='linear', max_iter=1e+6)\n",
    "\n",
    "for param, Xt, yt in targets_E + targets_N:\n",
    "    Xtr = feature_normalization(Xs)\n",
    "    Xts = feature_normalization(Xt)\n",
    "\n",
    "    ns = Xs.shape[0]\n",
    "    nt = Xt.shape[0]\n",
    "\n",
    "    a = ot.unif(ns)\n",
    "    b = ot.unif(nt)\n",
    "    M = ot.dist(Xtr, Xts, metric='cityblock')\n",
    "    M = M / np.max(M)\n",
    "    Gemd = ot.emd(a, b, M)\n",
    "    Gsink = ot.sinkhorn(a, b, M, reg=1e-3)\n",
    "    \n",
    "    umf_emd.append(undesired_mass_flow_index(Gemd, ys, yt))\n",
    "    umf_sink.append(undesired_mass_flow_index(Gsink, ys, yt))\n",
    "    \n",
    "    TXtr = ns * np.dot(Gemd, Xts)\n",
    "    clf.fit(TXtr, ys)\n",
    "    yp = clf.predict(Xts)\n",
    "    emd_acc.append(accuracy_score(yt, yp))\n",
    "    print(param, emd_acc[-1], umf_emd[-1])\n",
    "    \n",
    "    TXtr = ns * np.dot(Gsink, Xts)\n",
    "    clf.fit(TXtr, ys)\n",
    "    yp = clf.predict(Xts)\n",
    "    sink_acc.append(accuracy_score(yt, yp))"
   ]
  },
  {
   "cell_type": "code",
   "execution_count": 6,
   "metadata": {},
   "outputs": [
    {
     "data": {
      "image/png": "[encoded data removed]",
      "text/plain": [
       "<Figure size 648x360 with 1 Axes>"
      ]
     },
     "metadata": {
      "needs_background": "light"
     },
     "output_type": "display_data"
    }
   ],
   "source": [
    "fig, ax = plt.subplots(figsize=(9, 5))\n",
    "sns.regplot(umf_emd, 1 - np.array(emd_acc), ax=ax, label='LP')\n",
    "sns.regplot(umf_sink, 1 - np.array(sink_acc), ax=ax, label='Sinkhorn')\n",
    "ax.set_ylabel('$\\hat{\\mathcal{R}}_{T}(h_{TL})$')\n",
    "ax.set_xlabel('$UMF(\\gamma)$')\n",
    "ax.legend(title='Solver')\n",
    "\n",
    "plt.tight_layout()\n",
    "plt.savefig('./Figures/Ch6/UMFxRisk.pdf', transparent=True)"
   ]
  },
  {
   "cell_type": "code",
   "execution_count": 7,
   "metadata": {},
   "outputs": [
    {
     "data": {
      "image/png": "[encoded data removed]",
      "text/plain": [
       "<Figure size 648x360 with 1 Axes>"
      ]
     },
     "metadata": {
      "needs_background": "light"
     },
     "output_type": "display_data"
    }
   ],
   "source": [
    "fig, ax = plt.subplots(figsize=(9, 5))\n",
    "sns.regplot(umf_emd, 1 - np.array(emd_acc), ax=ax)\n",
    "# sns.regplot(umf_sink, 1 - np.array(sink_acc), ax=ax, label='Sinkhorn')\n",
    "ax.set_ylabel('$\\hat{\\mathcal{R}}_{T}(h_{TL})$')\n",
    "ax.set_xlabel('$UMF(\\gamma)$')\n",
    "# ax.legend(title='Solver')\n",
    "\n",
    "plt.tight_layout()\n",
    "plt.savefig('./Figures/Presentation/UMFxRisk.pdf', transparent=True)"
   ]
  },
  {
   "cell_type": "code",
   "execution_count": null,
   "metadata": {},
   "outputs": [],
   "source": []
  }
 ],
 "metadata": {
  "kernelspec": {
   "display_name": "Python 3.7.7 64-bit ('OptimalTransport': conda)",
   "language": "python",
   "name": "python37764bitoptimaltransportconda38cd42aab3c640dc8d34473d4e53c23f"
  },
  "language_info": {
   "codemirror_mode": {
    "name": "ipython",
    "version": 3
   },
   "file_extension": ".py",
   "mimetype": "text/x-python",
   "name": "python",
   "nbconvert_exporter": "python",
   "pygments_lexer": "ipython3",
   "version": "3.7.7"
  }
 },
 "nbformat": 4,
 "nbformat_minor": 4
}
